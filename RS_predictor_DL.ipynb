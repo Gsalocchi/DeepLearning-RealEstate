{
 "cells": [
  {
   "cell_type": "code",
   "execution_count": 32,
   "metadata": {},
   "outputs": [],
   "source": [
    "import pandas as pd\n",
    "import numpy as np\n",
    "\n",
    "\n",
    "import torch\n",
    "import torch.nn as nn\n",
    "import torch.optim as optim\n",
    "from torch.utils.data import DataLoader, TensorDataset\n",
    "import torch.nn.functional as F"
   ]
  },
  {
   "cell_type": "code",
   "execution_count": 46,
   "metadata": {},
   "outputs": [
    {
     "name": "stdout",
     "output_type": "stream",
     "text": [
      "2.6.0\n",
      "True\n",
      "True\n",
      "Using device: mps\n"
     ]
    }
   ],
   "source": [
    "# Check if MPS is available to use GPU from mac\n",
    "print(torch.__version__)\n",
    "print(torch.backends.mps.is_available())\n",
    "print(torch.backends.mps.is_built())\n",
    "\n",
    "device = torch.device(\"mps\" if torch.backends.mps.is_available() else \"cpu\")\n",
    "print(f\"Using device: {device}\")"
   ]
  },
  {
   "cell_type": "markdown",
   "metadata": {},
   "source": [
    "# Data"
   ]
  },
  {
   "cell_type": "code",
   "execution_count": 48,
   "metadata": {},
   "outputs": [],
   "source": [
    "train = pd.read_csv('train_cleaned.csv')\n",
    "test = pd.read_csv('test_cleaned.csv')\n",
    "\n",
    "train = train.astype('float32')\n",
    "test = test.astype('float32')\n",
    "\n",
    "X_train = torch.tensor(train.drop('y', axis=1).values, dtype=torch.float32)\n",
    "y_train = torch.tensor(train['y'].values, dtype=torch.float32)"
   ]
  },
  {
   "cell_type": "code",
   "execution_count": 47,
   "metadata": {},
   "outputs": [
    {
     "name": "stdout",
     "output_type": "stream",
     "text": [
      "torch.Size([8000, 54]) torch.Size([8000])\n"
     ]
    }
   ],
   "source": [
    "print(X_train.shape, y_train.shape)"
   ]
  },
  {
   "cell_type": "markdown",
   "metadata": {},
   "source": [
    "# Simple FNN with regularization layers."
   ]
  },
  {
   "cell_type": "code",
   "execution_count": 56,
   "metadata": {},
   "outputs": [],
   "source": [
    "class RealEstateNN(nn.Module):\n",
    "    def __init__(self, input_size):\n",
    "        super(RealEstateNN, self).__init__()\n",
    "        self.model = nn.Sequential(\n",
    "            nn.Linear(input_size, 54),\n",
    "            nn.BatchNorm1d(54),\n",
    "            nn.SiLU(),\n",
    "            nn.Dropout(0.3),\n",
    "            \n",
    "            nn.Linear(54, 48),\n",
    "            nn.BatchNorm1d(48),\n",
    "            nn.SiLU(),\n",
    "            nn.Dropout(0.3),\n",
    "\n",
    "            nn.Linear(48, 24),\n",
    "            nn.BatchNorm1d(24),\n",
    "            nn.SiLU(),\n",
    "\n",
    "            nn.Linear(24, 16),\n",
    "            nn.BatchNorm1d(16),\n",
    "            nn.SiLU(),\n",
    "\n",
    "            nn.Linear(16, 1)\n",
    "        )\n",
    "\n",
    "    def forward(self, x):\n",
    "        return self.model(x)"
   ]
  },
  {
   "cell_type": "code",
   "execution_count": 57,
   "metadata": {},
   "outputs": [],
   "source": [
    "def train_fit(model, dataloader, criterion, optimizer, num_epochs=10, device=device):\n",
    "    model.to(device)\n",
    "    model.train()\n",
    "    \n",
    "    for epoch in range(num_epochs):\n",
    "        total_loss = 0\n",
    "        for batch in dataloader:\n",
    "            inputs, labels = batch\n",
    "            inputs, labels = inputs.to(device), labels.to(device)\n",
    "            \n",
    "            optimizer.zero_grad()\n",
    "            outputs = model(inputs)\n",
    "            loss = criterion(outputs, labels)\n",
    "            loss.backward()\n",
    "            optimizer.step()\n",
    "            \n",
    "            total_loss += loss.item()\n",
    "        \n",
    "        print(f\"Epoch [{epoch+1}/{num_epochs}], Loss: {total_loss / len(dataloader):.4f}\")\n",
    "    print('model trained!')"
   ]
  },
  {
   "cell_type": "code",
   "execution_count": 58,
   "metadata": {},
   "outputs": [],
   "source": [
    "input_size = 54\n",
    "output_size = 1\n",
    "learning_rate = 0.01\n",
    "num_epochs = 40\n",
    "batch_size = 16\n",
    "\n",
    "dataset = TensorDataset(X_train, y_train)\n",
    "dataloader = DataLoader(dataset, batch_size=batch_size, shuffle=True)"
   ]
  },
  {
   "cell_type": "code",
   "execution_count": 59,
   "metadata": {},
   "outputs": [],
   "source": [
    "model = RealEstateNN(input_size).to(device)\n",
    "criterion = nn.L1Loss()\n",
    "\n",
    "optimizer = optim.Adam(model.parameters(), lr=learning_rate)"
   ]
  },
  {
   "cell_type": "code",
   "execution_count": 60,
   "metadata": {},
   "outputs": [
    {
     "name": "stdout",
     "output_type": "stream",
     "text": [
      "Epoch [1/40], Loss: 540169.2477\n",
      "Epoch [2/40], Loss: 537738.2916\n",
      "Epoch [3/40], Loss: 533190.8945\n",
      "Epoch [4/40], Loss: 526804.2943\n",
      "Epoch [5/40], Loss: 518830.4114\n",
      "Epoch [6/40], Loss: 509440.4201\n",
      "Epoch [7/40], Loss: 498706.9887\n",
      "Epoch [8/40], Loss: 486678.1907\n",
      "Epoch [9/40], Loss: 473520.2427\n",
      "Epoch [10/40], Loss: 459240.5992\n",
      "Epoch [11/40], Loss: 444129.1390\n",
      "Epoch [12/40], Loss: 427967.2282\n",
      "Epoch [13/40], Loss: 411246.3484\n",
      "Epoch [14/40], Loss: 394579.8829\n",
      "Epoch [15/40], Loss: 377951.4528\n",
      "Epoch [16/40], Loss: 361731.2054\n",
      "Epoch [17/40], Loss: 346551.4120\n",
      "Epoch [18/40], Loss: 332360.5399\n",
      "Epoch [19/40], Loss: 319367.0889\n",
      "Epoch [20/40], Loss: 308156.7116\n",
      "Epoch [21/40], Loss: 298139.8168\n",
      "Epoch [22/40], Loss: 290245.3075\n",
      "Epoch [23/40], Loss: 283597.5293\n",
      "Epoch [24/40], Loss: 278566.9479\n",
      "Epoch [25/40], Loss: 274980.6519\n",
      "Epoch [26/40], Loss: 272346.2241\n",
      "Epoch [27/40], Loss: 270603.1941\n",
      "Epoch [28/40], Loss: 269625.5077\n",
      "Epoch [29/40], Loss: 268780.2187\n",
      "Epoch [30/40], Loss: 268454.2105\n",
      "Epoch [31/40], Loss: 268101.0970\n",
      "Epoch [32/40], Loss: 267952.4124\n",
      "Epoch [33/40], Loss: 267856.3648\n",
      "Epoch [34/40], Loss: 267758.3177\n",
      "Epoch [35/40], Loss: 267712.8841\n",
      "Epoch [36/40], Loss: 267865.5491\n",
      "Epoch [37/40], Loss: 267718.5387\n",
      "Epoch [38/40], Loss: 267689.7398\n",
      "Epoch [39/40], Loss: 267738.2632\n",
      "Epoch [40/40], Loss: 267784.8189\n",
      "model trained!\n"
     ]
    }
   ],
   "source": [
    "train_fit(model, dataloader, criterion, optimizer, num_epochs)"
   ]
  }
 ],
 "metadata": {
  "kernelspec": {
   "display_name": "DeepLearning",
   "language": "python",
   "name": "python3"
  },
  "language_info": {
   "codemirror_mode": {
    "name": "ipython",
    "version": 3
   },
   "file_extension": ".py",
   "mimetype": "text/x-python",
   "name": "python",
   "nbconvert_exporter": "python",
   "pygments_lexer": "ipython3",
   "version": "3.12.9"
  }
 },
 "nbformat": 4,
 "nbformat_minor": 2
}
